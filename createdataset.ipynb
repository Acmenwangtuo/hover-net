{
 "cells": [
  {
   "cell_type": "code",
   "execution_count": 1,
   "metadata": {},
   "outputs": [],
   "source": [
    "import utils\n",
    "from scipy.ndimage import filters, measurements\n",
    "import matplotlib.pyplot as plt\n",
    "import cv2\n",
    "from skimage import measure,color\n",
    "from skimage.morphology import remove_small_objects, watershed\n",
    "import json\n",
    "from openslide import OpenSlide\n",
    "import numpy as np\n",
    "import matplotlib.pyplot as plt\n",
    "from PIL import Image\n",
    "import scipy.misc\n",
    "import scipy.io as sio\n",
    "import numpy as np\n",
    "import os"
   ]
  },
  {
   "cell_type": "code",
   "execution_count": 2,
   "metadata": {},
   "outputs": [],
   "source": [
    "slide_path = '/home/bnc/tool/HistomicsML/yourproject/hover_net/slide/'\n",
    "json_path = '/home/bnc/tool/HistomicsML/yourproject/hover_net/json/'\n",
    "recentage_path = '/home/bnc/tool/HistomicsML/yourproject/hover_net/recentage/'"
   ]
  },
  {
   "cell_type": "code",
   "execution_count": 3,
   "metadata": {},
   "outputs": [
    {
     "name": "stdout",
     "output_type": "stream",
     "text": [
      "['/home/bnc/tool/HistomicsML/yourproject/hover_net/slide/2018-49984003.ndpi', '/home/bnc/tool/HistomicsML/yourproject/hover_net/slide/2018-50049004.ndpi']\n",
      "['/home/bnc/tool/HistomicsML/yourproject/hover_net/json/2018-50049004_new_cls.json', '/home/bnc/tool/HistomicsML/yourproject/hover_net/json/2018-49984003_new_cls.json']\n"
     ]
    }
   ],
   "source": [
    "list_slide =   [os.path.join(slide_path,slide) for slide in os.listdir(slide_path)] \n",
    "list_json = [os.path.join(json_path,json) for json in os.listdir(json_path)]\n",
    "print(list_slide)\n",
    "print(list_json)"
   ]
  },
  {
   "cell_type": "code",
   "execution_count": 4,
   "metadata": {},
   "outputs": [
    {
     "name": "stdout",
     "output_type": "stream",
     "text": [
      "3660\n"
     ]
    }
   ],
   "source": [
    "info1 = utils.openjson(list_json[0])\n",
    "info2 = utils.openjson(list_json[1])\n",
    "print(len(info2))"
   ]
  },
  {
   "cell_type": "code",
   "execution_count": 5,
   "metadata": {},
   "outputs": [],
   "source": [
    "def get_cor(info):\n",
    "    ans = []\n",
    "    for reigon in info:\n",
    "        points = reigon['points']\n",
    "        X = []\n",
    "        Y = []\n",
    "        i = 0\n",
    "        while(i<len(points)-1):\n",
    "            X.append(points[i])\n",
    "            Y.append(points[i+1])\n",
    "            i = i + 2\n",
    "        nuclei = {}\n",
    "        nuclei['x_zuobiao'] = X\n",
    "        nuclei['y_zuobiao'] = Y\n",
    "        ans.append(nuclei)\n",
    "    return ans\n"
   ]
  },
  {
   "cell_type": "code",
   "execution_count": 6,
   "metadata": {},
   "outputs": [],
   "source": [
    "def get_size(ans):\n",
    "    X = []\n",
    "    Y = []\n",
    "    for nuclei in ans:\n",
    "        X = X + nuclei['x_zuobiao']\n",
    "        Y = Y + nuclei['y_zuobiao']\n",
    "    res_x_min = min(X)\n",
    "    res_x_max = max(X)\n",
    "    res_y_min = min(Y)\n",
    "    res_y_max = max(Y)\n",
    "    return res_x_min,res_x_max,res_y_min,res_y_max\n",
    "    "
   ]
  },
  {
   "cell_type": "code",
   "execution_count": 7,
   "metadata": {},
   "outputs": [],
   "source": [
    "def tiaozheng(ans):\n",
    "    x_min,x_max,y_min,y_max = get_size(ans)\n",
    "    for nuclei in ans:\n",
    "        nuclei['x_zuobiao'] = [data - x_min for data in nuclei['x_zuobiao']]\n",
    "        nuclei['y_zuobiao'] = [data - y_min for data in nuclei['y_zuobiao']]"
   ]
  },
  {
   "cell_type": "code",
   "execution_count": 8,
   "metadata": {},
   "outputs": [],
   "source": [
    "def crop_box(rencentage_path):\n",
    "    list_recentage = [os.path.join(rencentage_path,json) for json in os.listdir(recentage_path)]\n",
    "    print(list_recentage)\n",
    "    for recentage in list_recentage:\n",
    "        file_rec = os.path.basename(recentage).split('_')[0]\n",
    "        for slide in list_slide:\n",
    "            file_slide = os.path.basename(slide).split('.')[0]\n",
    "            if file_rec == file_slide:\n",
    "                info = utils.openjson(recentage)\n",
    "                ans = get_cor(info)\n",
    "                x_min,x_max,y_min,y_max = get_size(ans)\n",
    "                w = int(x_max-x_min)\n",
    "                h = int(y_max-y_min)\n",
    "                x_min = int(x_min)\n",
    "                y_min = int(y_min)\n",
    "                slide = OpenSlide(slide)\n",
    "                tile = slide.read_region((x_min,y_min),0, (w,h))\n",
    "                tile = cv2.cvtColor(np.asarray(tile),cv2.COLOR_RGB2BGR)\n",
    "                cv2.imwrite('./recentage/{}.png'.format(file_slide),tile)\n",
    "                print(get_size(ans))\n",
    "                \n",
    "    "
   ]
  },
  {
   "cell_type": "code",
   "execution_count": 12,
   "metadata": {},
   "outputs": [],
   "source": [
    "def filter_nuclei(recentage_path,json_path):\n",
    "#     list_recentage = [os.path.join(rencentage_path,json) for json in os.listdir(recentage_path)]\n",
    "    list_json = [os.path.join(json_path,json) for json in os.listdir(json_path)]\n",
    "    for recentage in list_recentage:\n",
    "        file_rec = os.path.basename(recentage).split('_')[0]\n",
    "        for json in list_json:\n",
    "            file_json = os.path.basename(json).split('_')[0]\n",
    "            if file_rec == file_json:\n",
    "                print(file_rec)\n",
    "    "
   ]
  },
  {
   "cell_type": "code",
   "execution_count": 13,
   "metadata": {},
   "outputs": [],
   "source": [
    "def main():\n",
    "    #crop_box(recentage_path)\n",
    "    filter_nuclei(recentage_path,json_path)\n",
    "#     print(list_slide[0])\n",
    "#     print(list_json[1])\n",
    "#     slide = OpenSlide(list_slide[1])\n",
    "#     ans = get_cor(info1)\n",
    "#     print(ans[0])\n",
    "#     x_min,x_max,y_min,y_max = get_size(ans)\n",
    "#     w = int(x_max-x_min)\n",
    "#     h = int(y_max-y_min)\n",
    "#     x_min = int(x_min)\n",
    "#     y_min = int(y_min)\n",
    "#     print(x_min)\n",
    "#     print(y_min)\n",
    "#     tile = slide.read_region((x_min,y_min),0, (w,h))\n",
    "#     tile = cv2.cvtColor(np.asarray(tile),cv2.COLOR_RGB2BGR)\n",
    "#     cv2.imwrite('./crop/tile0.png',tile)\n",
    "#     plt.imshow(tile)\n",
    "#     plt.show()\n",
    "#     print(w,h)\n",
    "#     tiaozheng(ans)\n",
    "#     x_min,x_max,y_min,y_max = get_size(ans)\n",
    "#     w = x_max-x_min\n",
    "#     h = y_max-y_min\n",
    "#     print(ans[0])\n",
    "#     print(w,h)\n",
    "#     for nuclei in ans:\n",
    "        \n",
    "#         x_cor = nuclei['x_zuobiao']\n",
    "#         y_cor = nuclei['y_zuobiao']\n",
    "#         print(len(x_cor))\n",
    "#         print(len(y_cor))\n",
    "#         res = []\n",
    "#         for i in range(0,len(x_cor)):\n",
    "#             temp = []\n",
    "#             temp.append(x_cor[i])\n",
    "#             temp.append(y_cor[i])\n",
    "#             res.append(temp)\n",
    "#         res = np.array(res,dtype = np.int32)\n",
    "#         print(res.shape)\n",
    "#         cv2.polylines(tile,np.int32([res]),True,(0,255,0),thickness=3)\n",
    "#     cv2.imwrite('./crop/tile0_result.png',tile)\n",
    "        "
   ]
  },
  {
   "cell_type": "code",
   "execution_count": null,
   "metadata": {},
   "outputs": [],
   "source": []
  },
  {
   "cell_type": "code",
   "execution_count": 14,
   "metadata": {},
   "outputs": [
    {
     "ename": "NameError",
     "evalue": "name 'list_recentage' is not defined",
     "output_type": "error",
     "traceback": [
      "\u001b[0;31m---------------------------------------------------------------------------\u001b[0m",
      "\u001b[0;31mNameError\u001b[0m                                 Traceback (most recent call last)",
      "\u001b[0;32m<ipython-input-14-a38977c3c969>\u001b[0m in \u001b[0;36m<module>\u001b[0;34m\u001b[0m\n\u001b[1;32m      1\u001b[0m \u001b[0;32mif\u001b[0m \u001b[0m__name__\u001b[0m \u001b[0;34m==\u001b[0m\u001b[0;34m'__main__'\u001b[0m\u001b[0;34m:\u001b[0m\u001b[0;34m\u001b[0m\u001b[0m\n\u001b[0;32m----> 2\u001b[0;31m     \u001b[0mmain\u001b[0m\u001b[0;34m(\u001b[0m\u001b[0;34m)\u001b[0m\u001b[0;34m\u001b[0m\u001b[0m\n\u001b[0m",
      "\u001b[0;32m<ipython-input-13-da6305cc3103>\u001b[0m in \u001b[0;36mmain\u001b[0;34m()\u001b[0m\n\u001b[1;32m      1\u001b[0m \u001b[0;32mdef\u001b[0m \u001b[0mmain\u001b[0m\u001b[0;34m(\u001b[0m\u001b[0;34m)\u001b[0m\u001b[0;34m:\u001b[0m\u001b[0;34m\u001b[0m\u001b[0m\n\u001b[1;32m      2\u001b[0m     \u001b[0;31m#crop_box(recentage_path)\u001b[0m\u001b[0;34m\u001b[0m\u001b[0;34m\u001b[0m\u001b[0m\n\u001b[0;32m----> 3\u001b[0;31m     \u001b[0mfilter_nuclei\u001b[0m\u001b[0;34m(\u001b[0m\u001b[0mrecentage_path\u001b[0m\u001b[0;34m,\u001b[0m\u001b[0mjson_path\u001b[0m\u001b[0;34m)\u001b[0m\u001b[0;34m\u001b[0m\u001b[0m\n\u001b[0m\u001b[1;32m      4\u001b[0m \u001b[0;31m#     print(list_slide[0])\u001b[0m\u001b[0;34m\u001b[0m\u001b[0;34m\u001b[0m\u001b[0m\n\u001b[1;32m      5\u001b[0m \u001b[0;31m#     print(list_json[1])\u001b[0m\u001b[0;34m\u001b[0m\u001b[0;34m\u001b[0m\u001b[0m\n",
      "\u001b[0;32m<ipython-input-12-105febdbe601>\u001b[0m in \u001b[0;36mfilter_nuclei\u001b[0;34m(recentage_path, json_path)\u001b[0m\n\u001b[1;32m      2\u001b[0m \u001b[0;31m#     list_recentage = [os.path.join(rencentage_path,json) for json in os.listdir(recentage_path)]\u001b[0m\u001b[0;34m\u001b[0m\u001b[0;34m\u001b[0m\u001b[0m\n\u001b[1;32m      3\u001b[0m     \u001b[0mlist_json\u001b[0m \u001b[0;34m=\u001b[0m \u001b[0;34m[\u001b[0m\u001b[0mos\u001b[0m\u001b[0;34m.\u001b[0m\u001b[0mpath\u001b[0m\u001b[0;34m.\u001b[0m\u001b[0mjoin\u001b[0m\u001b[0;34m(\u001b[0m\u001b[0mjson_path\u001b[0m\u001b[0;34m,\u001b[0m\u001b[0mjson\u001b[0m\u001b[0;34m)\u001b[0m \u001b[0;32mfor\u001b[0m \u001b[0mjson\u001b[0m \u001b[0;32min\u001b[0m \u001b[0mos\u001b[0m\u001b[0;34m.\u001b[0m\u001b[0mlistdir\u001b[0m\u001b[0;34m(\u001b[0m\u001b[0mjson_path\u001b[0m\u001b[0;34m)\u001b[0m\u001b[0;34m]\u001b[0m\u001b[0;34m\u001b[0m\u001b[0m\n\u001b[0;32m----> 4\u001b[0;31m     \u001b[0;32mfor\u001b[0m \u001b[0mrecentage\u001b[0m \u001b[0;32min\u001b[0m \u001b[0mlist_recentage\u001b[0m\u001b[0;34m:\u001b[0m\u001b[0;34m\u001b[0m\u001b[0m\n\u001b[0m\u001b[1;32m      5\u001b[0m         \u001b[0mfile_rec\u001b[0m \u001b[0;34m=\u001b[0m \u001b[0mos\u001b[0m\u001b[0;34m.\u001b[0m\u001b[0mpath\u001b[0m\u001b[0;34m.\u001b[0m\u001b[0mbasename\u001b[0m\u001b[0;34m(\u001b[0m\u001b[0mrecentage\u001b[0m\u001b[0;34m)\u001b[0m\u001b[0;34m.\u001b[0m\u001b[0msplit\u001b[0m\u001b[0;34m(\u001b[0m\u001b[0;34m'_'\u001b[0m\u001b[0;34m)\u001b[0m\u001b[0;34m[\u001b[0m\u001b[0;36m0\u001b[0m\u001b[0;34m]\u001b[0m\u001b[0;34m\u001b[0m\u001b[0m\n\u001b[1;32m      6\u001b[0m         \u001b[0;32mfor\u001b[0m \u001b[0mjson\u001b[0m \u001b[0;32min\u001b[0m \u001b[0mlist_json\u001b[0m\u001b[0;34m:\u001b[0m\u001b[0;34m\u001b[0m\u001b[0m\n",
      "\u001b[0;31mNameError\u001b[0m: name 'list_recentage' is not defined"
     ]
    }
   ],
   "source": [
    "if __name__ =='__main__':\n",
    "    main()"
   ]
  },
  {
   "cell_type": "code",
   "execution_count": null,
   "metadata": {},
   "outputs": [],
   "source": []
  },
  {
   "cell_type": "code",
   "execution_count": null,
   "metadata": {},
   "outputs": [],
   "source": []
  },
  {
   "cell_type": "code",
   "execution_count": null,
   "metadata": {},
   "outputs": [],
   "source": []
  }
 ],
 "metadata": {
  "kernelspec": {
   "display_name": "Python 3",
   "language": "python",
   "name": "python3"
  },
  "language_info": {
   "codemirror_mode": {
    "name": "ipython",
    "version": 3
   },
   "file_extension": ".py",
   "mimetype": "text/x-python",
   "name": "python",
   "nbconvert_exporter": "python",
   "pygments_lexer": "ipython3",
   "version": "3.6.2"
  }
 },
 "nbformat": 4,
 "nbformat_minor": 4
}
