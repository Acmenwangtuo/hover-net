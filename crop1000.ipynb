{
 "cells": [
  {
   "cell_type": "code",
   "execution_count": 1,
   "metadata": {},
   "outputs": [],
   "source": [
    "import numpy as np\n",
    "import cv2\n",
    "import glob\n",
    "import os"
   ]
  },
  {
   "cell_type": "code",
   "execution_count": 2,
   "metadata": {},
   "outputs": [],
   "source": [
    "image_path = '/home/bnc/tool/HistomicsML/yourproject/hover_net/recentage/image/'\n",
    "npy_path = '/home/bnc/tool/HistomicsML/yourproject/hover_net/recentage/npy/'\n",
    "save_image = '/home/bnc/tool/HistomicsML/yourproject/hover_net/recentage/1000/image/'\n",
    "save_npy = '/home/bnc/tool/HistomicsML/yourproject/hover_net/recentage/1000/label/'"
   ]
  },
  {
   "cell_type": "code",
   "execution_count": 3,
   "metadata": {},
   "outputs": [],
   "source": [
    "def crop(image,npy):\n",
    "    label = np.load(npy)\n",
    "    img = cv2.imread(image)\n",
    "    h = label.shape[0]\n",
    "    w = label.shape[1]\n",
    "    print(img.shape)\n",
    "    print(h,w)\n",
    "    cnt = 0\n",
    "    for i in range(0,h,1000):\n",
    "        for j in range(0,w,1000):\n",
    "            if(i+1000 > h or j+1000 > w):\n",
    "                continue\n",
    "            temp_img = img[i:i+1000,j:j+1000,:]\n",
    "            temp_npy = label[i:i+1000,j:j+1000]\n",
    "            cnt = cnt + 1\n",
    "            cv2.imwrite(save_image+os.path.basename(image).split('.')[0]+\"_{}_{}.png\".format(i,j),temp_img)\n",
    "            np.save(save_npy+os.path.basename(npy).split('.')[0]+\"_{}_{}.npy\".format(i,j),temp_npy)\n",
    "    print(cnt)"
   ]
  },
  {
   "cell_type": "code",
   "execution_count": 4,
   "metadata": {},
   "outputs": [],
   "source": [
    "def main():\n",
    "    image_list = glob.glob(image_path+'*.png')\n",
    "    npy_list = glob.glob(npy_path+'*.npy')\n",
    "    print(image_list)\n",
    "    print(npy_list)\n",
    "    crop(image_list[1],npy_list[1])\n",
    "    "
   ]
  },
  {
   "cell_type": "code",
   "execution_count": 5,
   "metadata": {},
   "outputs": [
    {
     "name": "stdout",
     "output_type": "stream",
     "text": [
      "['/home/bnc/tool/HistomicsML/yourproject/hover_net/recentage/image/2018-49984003.png', '/home/bnc/tool/HistomicsML/yourproject/hover_net/recentage/image/2018-50049004.png']\n",
      "['/home/bnc/tool/HistomicsML/yourproject/hover_net/recentage/npy/2018-49984003.npy', '/home/bnc/tool/HistomicsML/yourproject/hover_net/recentage/npy/2018-50049004.npy']\n",
      "(3310, 3307, 3)\n",
      "3310 3307\n",
      "9\n"
     ]
    }
   ],
   "source": [
    "if __name__ == \"__main__\":\n",
    "    main()"
   ]
  },
  {
   "cell_type": "code",
   "execution_count": null,
   "metadata": {},
   "outputs": [],
   "source": []
  }
 ],
 "metadata": {
  "kernelspec": {
   "display_name": "Python 3",
   "language": "python",
   "name": "python3"
  },
  "language_info": {
   "codemirror_mode": {
    "name": "ipython",
    "version": 3
   },
   "file_extension": ".py",
   "mimetype": "text/x-python",
   "name": "python",
   "nbconvert_exporter": "python",
   "pygments_lexer": "ipython3",
   "version": "3.6.2"
  }
 },
 "nbformat": 4,
 "nbformat_minor": 4
}
